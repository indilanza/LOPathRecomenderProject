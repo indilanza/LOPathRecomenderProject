{
 "cells": [
  {
   "cell_type": "code",
   "execution_count": 1,
   "id": "eed70063-7458-4951-adec-a65ad595fbc2",
   "metadata": {},
   "outputs": [],
   "source": [
    "\n",
    "import pandas as pd\n",
    "\n",
    "\n",
    "\n",
    "# Función para simular el resultado del DataFrame\n",
    "def recommend_lo(learning_object_id: int) -> pd.DataFrame:\n",
    "    # Simulación del DataFrame\n",
    "    data = {\n",
    "        'Cosine similarity alg:': [\n",
    "            'Archivo: Problemas con conjuntos',\n",
    "            'Archivo: Problemas Tema 1',\n",
    "            'Archivo: Boletín de problemas del tema 3',\n",
    "            'Archivo: Ejercicios cortos con pilas, colas y listas',\n",
    "            'Archivo: Boletín de problemas del tema 4'\n",
    "        ],\n",
    "        'Shortest path alg:': [\n",
    "            'Archivo: Problemas con conjuntos',\n",
    "            'Carpeta: Práctica 1 (29 de Septiembre y Octubre)',\n",
    "            'Carpeta: Práctica 2 (6 y 8 de Octubre)',\n",
    "            'Carpeta: Practica 3',\n",
    "            'URL: Resumen de notas'\n",
    "        ]\n",
    "    }\n",
    "    df = pd.DataFrame(data)\n",
    "    return df\n",
    "\n",
    "\n",
    "def recommend(learning_object_id: int):\n",
    "    # Llamar a la función recommend_lo y obtener el resultado\n",
    "    result_df = recommend_lo(learning_object_id)\n",
    "    \n",
    "    # Convertir el DataFrame a un diccionario con listas\n",
    "    result_dict = result_df.to_dict(orient='list')\n",
    "    \n",
    "    # Verificar si el resultado es un diccionario válido\n",
    "    if isinstance(result_dict, dict) and all(isinstance(value, list) for value in result_dict.values()):\n",
    "        return result_dict\n",
    "    else:\n",
    "        raise HTTPException(status_code=500, detail=\"El resultado no es válido\")\n"
   ]
  },
  {
   "cell_type": "code",
   "execution_count": 2,
   "id": "6b99c95c-33c5-4fd5-b16d-e6960e96a953",
   "metadata": {},
   "outputs": [
    {
     "data": {
      "text/plain": [
       "{'Cosine similarity alg:': ['Archivo: Problemas con conjuntos',\n",
       "  'Archivo: Problemas Tema 1',\n",
       "  'Archivo: Boletín de problemas del tema 3',\n",
       "  'Archivo: Ejercicios cortos con pilas, colas y listas',\n",
       "  'Archivo: Boletín de problemas del tema 4'],\n",
       " 'Shortest path alg:': ['Archivo: Problemas con conjuntos',\n",
       "  'Carpeta: Práctica 1 (29 de Septiembre y Octubre)',\n",
       "  'Carpeta: Práctica 2 (6 y 8 de Octubre)',\n",
       "  'Carpeta: Practica 3',\n",
       "  'URL: Resumen de notas']}"
      ]
     },
     "execution_count": 2,
     "metadata": {},
     "output_type": "execute_result"
    }
   ],
   "source": [
    "recommend(1)"
   ]
  },
  {
   "cell_type": "code",
   "execution_count": null,
   "id": "45664500-3526-4645-9e2a-4218a7f40526",
   "metadata": {},
   "outputs": [],
   "source": []
  }
 ],
 "metadata": {
  "kernelspec": {
   "display_name": "Python 3 (ipykernel)",
   "language": "python",
   "name": "python3"
  },
  "language_info": {
   "codemirror_mode": {
    "name": "ipython",
    "version": 3
   },
   "file_extension": ".py",
   "mimetype": "text/x-python",
   "name": "python",
   "nbconvert_exporter": "python",
   "pygments_lexer": "ipython3",
   "version": "3.10.12"
  }
 },
 "nbformat": 4,
 "nbformat_minor": 5
}
