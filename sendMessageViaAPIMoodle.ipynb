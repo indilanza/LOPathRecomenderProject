{
 "cells": [
  {
   "cell_type": "code",
   "execution_count": 1,
   "id": "2aa398e9-9c58-45f3-aa86-4d060cca34bd",
   "metadata": {},
   "outputs": [],
   "source": [
    "from fastapi import FastAPI, HTTPException\n",
    "import httpx\n",
    "from pydantic import BaseModel\n",
    "\n",
    "app = FastAPI()\n",
    "\n",
    "# Configuración de la API de Moodle\n",
    "MOODLE_URL = \"http://localhost/moodle/webservice/rest/server.php\"\n",
    "MOODLE_TOKEN = \"7f0aa2b0746edf87b136e976cfaac531\"\n",
    "\n",
    "\n",
    "class MessageData(BaseModel):\n",
    "    touserid: int\n",
    "    text: str\n",
    "    textformat: int\n",
    "    \n",
    "\n",
    "\n",
    "# Ruta para actualziar un curso en Moodle utilizando el método POST\n",
    "@app.post(\"/send_message_moodle\")\n",
    "# Función para actualizar un curso existente en Moodle\n",
    "async def send_message_moodle( message_data: MessageData):\n",
    "    # Define la función de la API de Moodle para actualizar cursos\n",
    "    moodle_api_function = \"core_message_send_instant_messages\"\n",
    "\n",
    "    # Configura los parámetros para la solicitud\n",
    "    params = {\n",
    "        \"wstoken\": MOODLE_TOKEN,\n",
    "        \"wsfunction\": moodle_api_function,\n",
    "        \"moodlewsrestformat\": \"json\",\n",
    "       # \"courses[0][id]\": course_data.id,  # ID del curso existente\n",
    "        \n",
    "        \"messages[0][touserid]\": message_data.touserid,\n",
    "        \"messages[0][text]\": message_data.text,\n",
    "        \"messages[0][textformat]\": message_data.textformat,\n",
    "\n",
    "    }\n",
    "\n",
    "    # Realiza la solicitud a la API de Moodle\n",
    "    async with httpx.AsyncClient() as client:\n",
    "        response = await client.post(MOODLE_URL, params=params)\n",
    "\n",
    "    # Verifica el estado de la respuesta\n",
    "    if response.status_code == 200:\n",
    "        result = response.json()\n",
    "        if \"exception\" in result:\n",
    "            raise HTTPException(status_code=500, detail=f\"Error en la API de Moodle: {result['exception']}\")\n",
    "        else:\n",
    "            return {\"message\": \"Mensaje enviado exitosamente\"}\n",
    "    else:\n",
    "        raise HTTPException(status_code=500, detail=f\"Error al llamar a la API de Moodle: {response.text}\")\n",
    "\n",
    "\n",
    "\n",
    "\n",
    "\n",
    "\n"
   ]
  },
  {
   "cell_type": "code",
   "execution_count": 2,
   "id": "f84a0ad5-9c7e-4ec3-9511-56ef16b0fb9f",
   "metadata": {},
   "outputs": [
    {
     "name": "stderr",
     "output_type": "stream",
     "text": [
      "INFO:     Started server process [16839]\n",
      "INFO:     Waiting for application startup.\n",
      "INFO:     Application startup complete.\n",
      "INFO:     Uvicorn running on http://127.0.0.1:8000 (Press CTRL+C to quit)\n"
     ]
    }
   ],
   "source": [
    "#Poner en marcha el servidor en un hilo \n",
    "import nest_asyncio\n",
    "nest_asyncio.apply()\n",
    "\n",
    "from threading import Thread\n",
    "import uvicorn\n",
    "\n",
    "# Variable de bandera para controlar el hilo\n",
    "stop_server = False\n",
    "\n",
    "def run_server():\n",
    "    uvicorn.run(app, host=\"127.0.0.1\", port=8000)\n",
    "\n",
    "# Inicia el servidor en un hilo\n",
    "server_thread = Thread(target=run_server)\n",
    "server_thread.start()\n",
    "\n"
   ]
  },
  {
   "cell_type": "code",
   "execution_count": 1,
   "id": "ca1adc08-7095-4a49-901c-bd3e593f30c5",
   "metadata": {},
   "outputs": [
    {
     "name": "stdout",
     "output_type": "stream",
     "text": [
      "Internal Server Error\n"
     ]
    }
   ],
   "source": [
    "#Probar las llamadas http a la api de fastapi desde \n",
    "import json\n",
    "import httpx\n",
    "\n",
    "# Lee los datos del usuario desde el archivo JSON\n",
    "with open(\"data/message_data.json\", \"r\") as file:\n",
    "    message_data_json = json.load(file)\n",
    "\n",
    "# Realiza una solicitud POST a la ruta /add_user_moodle\n",
    "url = \"http://localhost:8000/send_message_moodle\"\n",
    "response = httpx.post(url, json=message_data_json)\n",
    "\n",
    "# Imprime la respuesta del servidor\n",
    "print(response.text)"
   ]
  },
  {
   "cell_type": "code",
   "execution_count": null,
   "id": "4f2c3d29-b58d-428b-8229-66affa645ba9",
   "metadata": {},
   "outputs": [],
   "source": []
  }
 ],
 "metadata": {
  "kernelspec": {
   "display_name": "Python 3 (ipykernel)",
   "language": "python",
   "name": "python3"
  },
  "language_info": {
   "codemirror_mode": {
    "name": "ipython",
    "version": 3
   },
   "file_extension": ".py",
   "mimetype": "text/x-python",
   "name": "python",
   "nbconvert_exporter": "python",
   "pygments_lexer": "ipython3",
   "version": "3.10.12"
  }
 },
 "nbformat": 4,
 "nbformat_minor": 5
}
