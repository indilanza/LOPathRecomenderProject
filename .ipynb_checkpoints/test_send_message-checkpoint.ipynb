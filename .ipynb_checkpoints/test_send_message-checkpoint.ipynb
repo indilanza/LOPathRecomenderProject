{
 "cells": [
  {
   "cell_type": "code",
   "execution_count": 50,
   "id": "fdc73cd2-ba9d-46e8-b0c1-72177b9fd43b",
   "metadata": {},
   "outputs": [
    {
     "name": "stdout",
     "output_type": "stream",
     "text": [
      "{\"message\":\"Mensaje enviado exitosamente\"}\n"
     ]
    }
   ],
   "source": [
    "#Probar las llamadas http a la api de fastapi desde \n",
    "import json\n",
    "import httpx\n",
    "\n",
    "# Lee los datos del usuario desde el archivo JSON\n",
    "with open(\"data/message_data.json\", \"r\") as file:\n",
    "    message_data_json = json.load(file)\n",
    "\n",
    "# Realiza una solicitud POST a la ruta /send_message_moodle\n",
    "url = \"http://localhost:8000/send_message_moodle\"\n",
    "response = httpx.post(url, json=message_data_json)\n",
    "\n",
    "# Imprime la respuesta del servidor\n",
    "print(response.text)"
   ]
  },
  {
   "cell_type": "code",
   "execution_count": 5,
   "id": "5cf632e3-f3b7-4fa3-9810-5099eb34698e",
   "metadata": {},
   "outputs": [
    {
     "name": "stdout",
     "output_type": "stream",
     "text": [
      "{\"message\":\"Curso actualizado exitosamente\"}\n"
     ]
    }
   ],
   "source": [
    "#Actualziar datos del curso\n",
    "#Probar las llamadas http a la api de fastapi desde \n",
    "import json\n",
    "import httpx\n",
    "\n",
    "# Lee los datos del usuario desde el archivo JSON\n",
    "with open(\"data/course_data.json\", \"r\") as file:\n",
    "    course_data_json = json.load(file)\n",
    "\n",
    "# Realiza una solicitud POST a la ruta /update_course_moodle\n",
    "url = \"http://localhost:8000/update_course_moodle\"\n",
    "response = httpx.post(url, json=course_data_json)\n",
    "\n",
    "# Imprime la respuesta del servidor\n",
    "print(response.text)"
   ]
  },
  {
   "cell_type": "code",
   "execution_count": 21,
   "id": "fa999220-35b4-4476-af83-863610f338dd",
   "metadata": {},
   "outputs": [
    {
     "name": "stdout",
     "output_type": "stream",
     "text": [
      "{\"message\":\"Modulo actualizado exitosamente\"}\n"
     ]
    }
   ],
   "source": [
    "import json\n",
    "import httpx\n",
    "\n",
    "# Realiza una solicitud POST a la ruta /course_edit_module\n",
    "url = \"http://localhost:8000/course_edit_module/\"\n",
    "course_data_json = {\"module_id\": 9, \"action\": \"hide\"}  # Aquí proporciona los datos del curso que desees editar\n",
    "\n",
    "response = httpx.post(url, json=course_data_json)\n",
    "\n",
    "# Imprime la respuesta del servidor\n",
    "print(response.text)"
   ]
  },
  {
   "cell_type": "code",
   "execution_count": 34,
   "id": "c0bd0418-c45e-4dc9-861e-727f8d189266",
   "metadata": {},
   "outputs": [
    {
     "name": "stdout",
     "output_type": "stream",
     "text": [
      "{\"users\":[{\"id\":3,\"username\":\"maria\",\"firstname\":\"Maria\",\"lastname\":\"Perez\",\"fullname\":\"Maria Perez\",\"email\":\"maria@example.com\",\"department\":\"\",\"firstaccess\":1706619870,\"lastaccess\":1707303747,\"auth\":\"manual\",\"suspended\":false,\"confirmed\":true,\"lang\":\"en\",\"theme\":\"\",\"timezone\":\"99\",\"mailformat\":1,\"description\":\"\",\"descriptionformat\":1,\"profileimageurlsmall\":\"http://localhost/moodle/theme/image.php/boost/core/1707388367/u/f2\",\"profileimageurl\":\"http://localhost/moodle/theme/image.php/boost/core/1707388367/u/f1\"}],\"warnings\":[]}\n"
     ]
    }
   ],
   "source": [
    "import json\n",
    "import httpx\n",
    "\n",
    "url = \"http://localhost:8000/get_user_moodle?username=maria\"\n",
    "\n",
    "response = httpx.get(url)\n",
    "\n",
    "# Imprime la respuesta del servidor\n",
    "print(response.text)\n",
    "\n",
    "\n"
   ]
  },
  {
   "cell_type": "code",
   "execution_count": 36,
   "id": "ba6965c1-042b-476a-b3eb-1eea96533dac",
   "metadata": {},
   "outputs": [
    {
     "name": "stdout",
     "output_type": "stream",
     "text": [
      "{\"users\":[{\"id\":1,\"username\":\"guest\",\"firstname\":\"Guest user\",\"lastname\":\" \",\"fullname\":\"Guest user  \",\"email\":\"root@localhost\",\"department\":\"\",\"firstaccess\":0,\"lastaccess\":0,\"auth\":\"manual\",\"suspended\":false,\"confirmed\":true,\"lang\":\"en\",\"theme\":\"\",\"timezone\":\"99\",\"mailformat\":1,\"description\":\"This user is a special user that allows read-only access to some courses.\",\"descriptionformat\":1,\"profileimageurlsmall\":\"http://localhost/moodle/theme/image.php/boost/core/1707388367/u/f2\",\"profileimageurl\":\"http://localhost/moodle/theme/image.php/boost/core/1707388367/u/f1\"},{\"id\":2,\"username\":\"adminmoodle\",\"firstname\":\"Indira\",\"lastname\":\"Lanza\",\"fullname\":\"Indira Lanza\",\"email\":\"indiralanza@yahoo.es\",\"department\":\"\",\"firstaccess\":1701358091,\"lastaccess\":1707820528,\"auth\":\"manual\",\"suspended\":false,\"confirmed\":true,\"lang\":\"en\",\"theme\":\"\",\"timezone\":\"Europe/Madrid\",\"mailformat\":1,\"description\":\"\",\"descriptionformat\":1,\"city\":\"Castellon de La Plana\",\"country\":\"ES\",\"profileimageurlsmall\":\"http://localhost/moodle/theme/image.php/boost/core/1707388367/u/f2\",\"profileimageurl\":\"http://localhost/moodle/theme/image.php/boost/core/1707388367/u/f1\",\"preferences\":[{\"name\":\"core_message_migrate_data\",\"value\":\"1\"},{\"name\":\"auth_manual_passwordupdatetime\",\"value\":\"1701358408\"},{\"name\":\"email_bounce_count\",\"value\":\"1\"},{\"name\":\"email_send_count\",\"value\":\"1\"},{\"name\":\"core_user_welcome\",\"value\":\"1701358745\"},{\"name\":\"login_failed_count_since_success\",\"value\":\"0\"},{\"name\":\"tool_usertours_tour_completion_time_4\",\"value\":\"1701358749\"},{\"name\":\"drawer-open-index\",\"value\":\"1\"},{\"name\":\"tool_usertours_tour_completion_time_3\",\"value\":\"1701359277\"},{\"name\":\"tool_usertours_tour_completion_time_5\",\"value\":\"1701428706\"},{\"name\":\"drawer-open-block\",\"value\":\"1\"},{\"name\":\"local_moodlecheck_categoriestime\",\"value\":\"1702466755\"},{\"name\":\"local_moodlecheck_categoriesvalue\",\"value\":\"access,dml,files,form,log,navigation,page,output,string,upgrade,core,admin,adminpresets,analytics,availability,backup,cache,calendar,check,comment,competency,ddl,enrol,event,xapi,external,h5p,lock,message,media,oauth2,payment,preference,portfolio,privacy,rating,reportbuilder,rss,search,tag,task,time,test,webservice,badges,completion,grading,group,grade,plagiarism,question\"},{\"name\":\"last_time_enrolments_synced\",\"value\":\"1707821075\"},{\"name\":\"coursesectionspreferences_2\",\"value\":\"{\\\"contentcollapsed\\\":[]}\"},{\"name\":\"coursesectionspreferences_3\",\"value\":\"{\\\"contentcollapsed\\\":[]}\"},{\"name\":\"filepicker_recentrepository\",\"value\":\"5\"},{\"name\":\"filepicker_recentlicense\",\"value\":\"unknown\"},{\"name\":\"message_provider_moodle_messagecontactrequests_enabled\",\"value\":\"popup,email\"},{\"name\":\"message_provider_tool_messageinbound_invalidrecipienthandler_enabled\",\"value\":\"popup,email\"},{\"name\":\"message_provider_tool_messageinbound_messageprocessingsuccess_enabled\",\"value\":\"popup,email\"},{\"name\":\"message_provider_tool_messageinbound_messageprocessingerror_enabled\",\"value\":\"popup,email\"},{\"name\":\"lesson_view\",\"value\":\"collapsed\"},{\"name\":\"ifirst\",\"value\":\"\"},{\"name\":\"ilast\",\"value\":\"\"},{\"name\":\"tool_usertours_tour_completion_time_1\",\"value\":\"1706875237\"},{\"name\":\"qtype_truefalse_defaultmark\",\"value\":\"5\"},{\"name\":\"qtype_truefalse_penalty\",\"value\":\"1\"},{\"name\":\"qtype_truefalse_showstandardinstruction\",\"value\":\"0\"},{\"name\":\"_lastloaded\",\"value\":1707823845}]},{\"id\":3,\"username\":\"maria\",\"firstname\":\"Maria\",\"lastname\":\"Perez\",\"fullname\":\"Maria Perez\",\"email\":\"maria@example.com\",\"department\":\"\",\"firstaccess\":1706619870,\"lastaccess\":1707303747,\"auth\":\"manual\",\"suspended\":false,\"confirmed\":true,\"lang\":\"en\",\"theme\":\"\",\"timezone\":\"99\",\"mailformat\":1,\"description\":\"\",\"descriptionformat\":1,\"profileimageurlsmall\":\"http://localhost/moodle/theme/image.php/boost/core/1707388367/u/f2\",\"profileimageurl\":\"http://localhost/moodle/theme/image.php/boost/core/1707388367/u/f1\"},{\"id\":4,\"username\":\"jose\",\"firstname\":\"Jose\",\"lastname\":\"Perez\",\"fullname\":\"Jose Perez\",\"email\":\"jose@example.com\",\"department\":\"\",\"firstaccess\":1706619917,\"lastaccess\":1707731259,\"auth\":\"manual\",\"suspended\":false,\"confirmed\":true,\"lang\":\"en\",\"theme\":\"\",\"timezone\":\"99\",\"mailformat\":1,\"description\":\"\",\"descriptionformat\":1,\"profileimageurlsmall\":\"http://localhost/moodle/theme/image.php/boost/core/1707388367/u/f2\",\"profileimageurl\":\"http://localhost/moodle/theme/image.php/boost/core/1707388367/u/f1\"},{\"id\":5,\"username\":\"nuevo_usuario\",\"firstname\":\"Nombre\",\"lastname\":\"Apellido\",\"fullname\":\"Nombre Apellido\",\"email\":\"nuevo_usuario@example.com\",\"department\":\"\",\"firstaccess\":0,\"lastaccess\":0,\"auth\":\"manual\",\"suspended\":false,\"confirmed\":true,\"lang\":\"en\",\"theme\":\"\",\"timezone\":\"99\",\"mailformat\":1,\"profileimageurlsmall\":\"http://localhost/moodle/theme/image.php/boost/core/1707388367/u/f2\",\"profileimageurl\":\"http://localhost/moodle/theme/image.php/boost/core/1707388367/u/f1\"}],\"warnings\":[]}\n"
     ]
    }
   ],
   "source": [
    "import json\n",
    "import httpx\n",
    "\n",
    "url = \"http://localhost:8000/get_all_users_moodle\"\n",
    "\n",
    "response = httpx.get(url)\n",
    "\n",
    "# Imprime la respuesta del servidor\n",
    "print(response.text)\n",
    "\n"
   ]
  },
  {
   "cell_type": "code",
   "execution_count": 47,
   "id": "917bb957-1a71-4fd0-973c-c16fa55aa960",
   "metadata": {},
   "outputs": [
    {
     "data": {
      "text/plain": [
       "5"
      ]
     },
     "execution_count": 47,
     "metadata": {},
     "output_type": "execute_result"
    }
   ],
   "source": [
    "result=json.loads(response.text)\n",
    "len(result['users'])"
   ]
  },
  {
   "cell_type": "code",
   "execution_count": 49,
   "id": "8eb4c447-167b-4326-b975-ff177c37b38a",
   "metadata": {},
   "outputs": [
    {
     "data": {
      "text/plain": [
       "['guest', 'adminmoodle', 'maria', 'jose', 'nuevo_usuario']"
      ]
     },
     "execution_count": 49,
     "metadata": {},
     "output_type": "execute_result"
    }
   ],
   "source": [
    "usernames=[]\n",
    "for e in result['users']:\n",
    "    usernames.append(e['username'])\n",
    "    \n",
    "usernames"
   ]
  },
  {
   "cell_type": "code",
   "execution_count": 54,
   "id": "a1d535bb-a6c6-4f1b-b1f1-d3bffeacb635",
   "metadata": {},
   "outputs": [
    {
     "name": "stdout",
     "output_type": "stream",
     "text": [
      "{\"message\":\"Log appended successfully\"}\n"
     ]
    }
   ],
   "source": [
    "import json\n",
    "import httpx\n",
    "\n",
    "# Realiza una solicitud POST a la ruta /course_edit_module\n",
    "url = \"http://localhost:8000/append_log/\"\n",
    "course_data_json = {\"userid\": 9, \"cmid\": 3, \"time\": 202410 }  # Aquí proporciona los datos del curso que desees editar\n",
    "\n",
    "response = httpx.post(url, json=course_data_json)\n",
    "\n",
    "# Imprime la respuesta del servidor\n",
    "print(response.text)"
   ]
  },
  {
   "cell_type": "code",
   "execution_count": null,
   "id": "e7819257-1ba4-4e5d-9b31-882378dabe28",
   "metadata": {},
   "outputs": [],
   "source": []
  },
  {
   "cell_type": "code",
   "execution_count": null,
   "id": "856510fa-5881-4669-ba48-b37f1cb73b83",
   "metadata": {},
   "outputs": [],
   "source": []
  }
 ],
 "metadata": {
  "kernelspec": {
   "display_name": "Python 3 (ipykernel)",
   "language": "python",
   "name": "python3"
  },
  "language_info": {
   "codemirror_mode": {
    "name": "ipython",
    "version": 3
   },
   "file_extension": ".py",
   "mimetype": "text/x-python",
   "name": "python",
   "nbconvert_exporter": "python",
   "pygments_lexer": "ipython3",
   "version": "3.10.12"
  }
 },
 "nbformat": 4,
 "nbformat_minor": 5
}
