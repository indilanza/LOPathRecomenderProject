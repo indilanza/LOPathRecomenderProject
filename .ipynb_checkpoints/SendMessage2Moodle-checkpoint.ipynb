{
 "cells": [
  {
   "cell_type": "code",
   "execution_count": null,
   "id": "074fad17-17b3-4a36-b033-dab85bc2ccc7",
   "metadata": {},
   "outputs": [],
   "source": [
    "from fastapi import FastAPI\n",
    "import requests\n",
    "\n",
    "app = FastAPI()\n",
    "\n",
    "@app.post(\"/send-message-to-moodle/\")\n",
    "def send_message_to_moodle():\n",
    "    # Datos del mensaje a enviar a Moodle\n",
    "    message_data = {\n",
    "        'subject': 'Asunto del mensaje',\n",
    "        'content': 'Contenido del mensaje'\n",
    "    }\n",
    "    \n",
    "    # URL de tu script PHP en Moodle para recibir el mensaje\n",
    "    moodle_url = \"http://localhost/moodle/local/events_handling/scripts/receive_message.php\"\n",
    "    \n",
    "    try:\n",
    "        # Enviar el mensaje a Moodle\n",
    "        response = requests.post(moodle_url, json=message_data)\n",
    "        response.raise_for_status()  # Lanza una excepción si hay un error en la solicitud\n",
    "        return {\"message\": \"Mensaje enviado a Moodle correctamente\"}\n",
    "    except requests.exceptions.RequestException as e:\n",
    "        return {\"error\": f\"No se pudo enviar el mensaje a Moodle: {e}\"}\n"
   ]
  },
  {
   "cell_type": "code",
   "execution_count": null,
   "id": "1002cab0-084d-44dd-b270-9b1fab74bf1d",
   "metadata": {},
   "outputs": [],
   "source": [
    "#Poner en marcha el servidor en un hilo \n",
    "import nest_asyncio\n",
    "nest_asyncio.apply()\n",
    "\n",
    "from threading import Thread\n",
    "import uvicorn\n",
    "\n",
    "# Variable de bandera para controlar el hilo\n",
    "stop_server = False\n",
    "\n",
    "def run_server():\n",
    "    uvicorn.run(app, host=\"127.0.0.1\", port=8000)\n",
    "\n",
    "# Inicia el servidor en un hilo\n",
    "server_thread = Thread(target=run_server)\n",
    "server_thread.start()\n",
    "\n"
   ]
  },
  {
   "cell_type": "code",
   "execution_count": null,
   "id": "99bdc38e-6d8a-40d9-b98f-6cd5ac393f75",
   "metadata": {},
   "outputs": [],
   "source": [
    "#Probar las llamadas http a la api de fastapi desde \n",
    "import json\n",
    "import httpx\n",
    "\n",
    "# Realiza una solicitud POST a la ruta /add_user_moodle\n",
    "url = \"http://localhost:8000/send-message-to-moodle/\"\n",
    "response = httpx.post(url)\n",
    "\n",
    "# Imprime la respuesta del servidor\n",
    "print(response.text)"
   ]
  },
  {
   "cell_type": "code",
   "execution_count": null,
   "id": "1e82f82c-8f95-4aaf-a0e5-8dbb3dbc2119",
   "metadata": {},
   "outputs": [],
   "source": []
  }
 ],
 "metadata": {
  "kernelspec": {
   "display_name": "Python 3 (ipykernel)",
   "language": "python",
   "name": "python3"
  },
  "language_info": {
   "codemirror_mode": {
    "name": "ipython",
    "version": 3
   },
   "file_extension": ".py",
   "mimetype": "text/x-python",
   "name": "python",
   "nbconvert_exporter": "python",
   "pygments_lexer": "ipython3",
   "version": "3.10.12"
  }
 },
 "nbformat": 4,
 "nbformat_minor": 5
}
