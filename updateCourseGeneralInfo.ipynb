{
 "cells": [
  {
   "cell_type": "code",
   "execution_count": 4,
   "id": "2aa398e9-9c58-45f3-aa86-4d060cca34bd",
   "metadata": {},
   "outputs": [],
   "source": [
    "from fastapi import FastAPI, HTTPException\n",
    "import httpx\n",
    "from pydantic import BaseModel\n",
    "\n",
    "app = FastAPI()\n",
    "\n",
    "# Configuración de la API de Moodle\n",
    "MOODLE_URL = \"http://localhost/moodle/webservice/rest/server.php\"\n",
    "MOODLE_TOKEN = \"7f0aa2b0746edf87b136e976cfaac531\"\n",
    "\n",
    "\n",
    "class CourseData(BaseModel):\n",
    "    id: int\n",
    "    fullname: str\n",
    "    shortname: str\n",
    "    categoryid: int\n",
    "    visible: int\n",
    "    format: str\n",
    "\n",
    "\n",
    "# Ruta para actualziar un curso en Moodle utilizando el método POST\n",
    "@app.post(\"/update_course_moodle\")\n",
    "# Función para actualizar un curso existente en Moodle\n",
    "async def actualizar_curso( course_data: CourseData):\n",
    "    # Define la función de la API de Moodle para actualizar cursos\n",
    "    moodle_api_function = \"core_course_update_courses\"\n",
    "\n",
    "    # Configura los parámetros para la solicitud\n",
    "    params = {\n",
    "        \"wstoken\": MOODLE_TOKEN,\n",
    "        \"wsfunction\": moodle_api_function,\n",
    "        \"moodlewsrestformat\": \"json\",\n",
    "        \"courses[0][id]\": course_data.id,  # ID del curso existente\n",
    "        \"courses[0][fullname]\": course_data.fullname,\n",
    "        \"courses[0][shortname]\": course_data.shortname,  # Puedes ajustar este parámetro según tus necesidades\n",
    "        \"courses[0][categoryid]\": course_data.categoryid, #0,  # ID de la categoría del curso (ajusta según tu estructura)\n",
    "        \"courses[0][visible]\": course_data.visible, #1,  # Puedes ajustar la visibilidad del curso (1 para visible, 0 para oculto)\n",
    "        \"courses[0][format]\": course_data.format #\"topics\",  # Puedes ajustar el formato del curso (topics, weeks, etc.)\n",
    "    }\n",
    "\n",
    "    # Realiza la solicitud a la API de Moodle\n",
    "    async with httpx.AsyncClient() as client:\n",
    "        response = await client.post(MOODLE_URL, params=params)\n",
    "\n",
    "    # Verifica el estado de la respuesta\n",
    "    if response.status_code == 200:\n",
    "        result = response.json()\n",
    "        if \"exception\" in result:\n",
    "            raise HTTPException(status_code=500, detail=f\"Error en la API de Moodle: {result['exception']}\")\n",
    "        else:\n",
    "            return {\"message\": \"Curso actualizado exitosamente\"}\n",
    "    else:\n",
    "        raise HTTPException(status_code=500, detail=f\"Error al llamar a la API de Moodle: {response.text}\")\n",
    "\n",
    "\n",
    "\n",
    "\n",
    "\n",
    "\n"
   ]
  },
  {
   "cell_type": "code",
   "execution_count": 6,
   "id": "c3035157-8efa-4500-8957-19fe080e1004",
   "metadata": {},
   "outputs": [
    {
     "name": "stdout",
     "output_type": "stream",
     "text": [
      "{'message': 'Tópico añadido exitosamente al curso'}\n"
     ]
    }
   ],
   "source": [
    "\"\"\"\n",
    "\n",
    "# Ejemplo de llamada en FastAPI\n",
    "course_data = {\n",
    "    \"id\": 3,\n",
    "    \"fullname\": \"Este es el nuevo Nombre del curso\",\n",
    "    \"shortname\": \"nombre_corto\",\n",
    "    \"categoryid\": 1,\n",
    "    \"visible\": 1,\n",
    "    \"format\": \"topics\"\n",
    "}\n",
    "# Parsear el JSON a un objeto Python usando el modelo Pydantic\n",
    "course_obj = CourseData(**course_data)\n",
    "\n",
    "result = await actualizar_curso( course_obj)\n",
    "print(result)\n"
   ]
  },
  {
   "cell_type": "code",
   "execution_count": 5,
   "id": "36041aa4-6126-471b-9fe2-7d305280b81e",
   "metadata": {},
   "outputs": [
    {
     "name": "stdout",
     "output_type": "stream",
     "text": [
      "INFO:     127.0.0.1:58434 - \"POST /update_course_moodle HTTP/1.1\" 200 OK\n",
      "{\"message\":\"Tópico añadido exitosamente al curso\"}\n"
     ]
    }
   ],
   "source": [
    "#Probar las llamadas http a la api de fastapi desde \n",
    "import json\n",
    "import httpx\n",
    "\n",
    "# Lee los datos del usuario desde el archivo JSON\n",
    "with open(\"data/course_data.json\", \"r\") as file:\n",
    "    course_data_json = json.load(file)\n",
    "\n",
    "# Realiza una solicitud POST a la ruta /add_user_moodle\n",
    "url = \"http://localhost:8000/update_course_moodle\"\n",
    "response = httpx.post(url, json=course_data_json)\n",
    "\n",
    "# Imprime la respuesta del servidor\n",
    "print(response.text)"
   ]
  },
  {
   "cell_type": "code",
   "execution_count": 2,
   "id": "f84a0ad5-9c7e-4ec3-9511-56ef16b0fb9f",
   "metadata": {},
   "outputs": [
    {
     "name": "stderr",
     "output_type": "stream",
     "text": [
      "INFO:     Started server process [11497]\n",
      "INFO:     Waiting for application startup.\n",
      "INFO:     Application startup complete.\n",
      "INFO:     Uvicorn running on http://127.0.0.1:8000 (Press CTRL+C to quit)\n"
     ]
    }
   ],
   "source": [
    "#Poner en marcha el servidor en un hilo \n",
    "import nest_asyncio\n",
    "nest_asyncio.apply()\n",
    "\n",
    "from threading import Thread\n",
    "import uvicorn\n",
    "\n",
    "# Variable de bandera para controlar el hilo\n",
    "stop_server = False\n",
    "\n",
    "def run_server():\n",
    "    uvicorn.run(app, host=\"127.0.0.1\", port=8000)\n",
    "\n",
    "# Inicia el servidor en un hilo\n",
    "server_thread = Thread(target=run_server)\n",
    "server_thread.start()\n",
    "\n"
   ]
  },
  {
   "cell_type": "code",
   "execution_count": null,
   "id": "ca1adc08-7095-4a49-901c-bd3e593f30c5",
   "metadata": {},
   "outputs": [],
   "source": []
  }
 ],
 "metadata": {
  "kernelspec": {
   "display_name": "Python 3 (ipykernel)",
   "language": "python",
   "name": "python3"
  },
  "language_info": {
   "codemirror_mode": {
    "name": "ipython",
    "version": 3
   },
   "file_extension": ".py",
   "mimetype": "text/x-python",
   "name": "python",
   "nbconvert_exporter": "python",
   "pygments_lexer": "ipython3",
   "version": "3.10.12"
  }
 },
 "nbformat": 4,
 "nbformat_minor": 5
}
