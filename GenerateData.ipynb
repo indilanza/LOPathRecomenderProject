{
 "cells": [
  {
   "cell_type": "code",
   "execution_count": 2,
   "id": "892b1186-10a4-4cd9-8935-234cda39b269",
   "metadata": {},
   "outputs": [
    {
     "name": "stdout",
     "output_type": "stream",
     "text": [
      "Archivo CSV generado exitosamente: output/datos_simulados.csv\n"
     ]
    }
   ],
   "source": [
    "import csv\n",
    "import uuid  # Para generar UUIDs aleatorios\n",
    "\n",
    "# Definir los datos simulados basados en los ejemplos proporcionados\n",
    "data = [\n",
    "    {\n",
    "        \"COURSE_IDNUMBER\": str(uuid.uuid4()),  # Generar un UUID aleatorio\n",
    "        \"COURSE_SHORTNAME\": \"Strategic Thinking Course\",\n",
    "        \"COURSE_FULLNAME\": \"Strategic Thinking Course\",\n",
    "        \"COURSE_SUMMARY\": \"How can you be more strategic as a leader? Strategic thinkers continually ask questions to help create the bridge between strategy and tactics.\",\n",
    "        \"COURSE_TAGS\": \"Business Strategy\",\n",
    "        \"COURSE_VISIBLE\": \"1\",\n",
    "        \"COURSE_THUMBNIAL\": \"https://www.google.com/images/branding/googlelogo/1x/googlelogo_color_272x92dp.png\",\n",
    "        \"COURSE_CATEGORYIDNUMBER\": str(uuid.uuid4()),  # Generar un UUID aleatorio\n",
    "        \"COURSE_CATEGORYNAME\": \"Business Strategy Courses\",\n",
    "        \"EXTERNAL_NAME\": \"Strategic Thinking Content\",\n",
    "        \"EXTERNAL_INTRO\": \"How can you be more strategic as a leader? Strategic thinkers continually ask questions to help create the bridge between strategy and tactics.\",\n",
    "        \"EXTERNAL_CONTENT\": '<p><a href=\"https://www.google.com/search?q=strategic+thinking+skills\" target=\"_blank\"><img src=\"https://brainzooming.com/wp-content/uploads/2015/04/Strategic-Tactical-Thinking.jpg\" alt=\"Strategic Thinking\" class=\"img-responsive\"></a></p><p><p>How can you be more strategic as a leader? Strategic thinkers continually ask questions to help create the bridge between strategy and tactics.</p></p><p><a href=\"https://www.google.com/search?q=strategic+thinking+skills\" target=\"_blank\">Launch</a></p>',\n",
    "        \"EXTERNAL_MARKCOMPLETEEXTERNALLY\": \"1\"\n",
    "    }\n",
    "] * 5  # Repetir los datos 5 veces\n",
    "\n",
    "# Definir la ruta del archivo CSV de salida\n",
    "csv_file = \"output/datos_simulados.csv\"\n",
    "\n",
    "# Definir los encabezados de columna\n",
    "headers = [\n",
    "    \"COURSE_IDNUMBER\",\n",
    "    \"COURSE_SHORTNAME\",\n",
    "    \"COURSE_FULLNAME\",\n",
    "    \"COURSE_SUMMARY\",\n",
    "    \"COURSE_TAGS\",\n",
    "    \"COURSE_VISIBLE\",\n",
    "    \"COURSE_THUMBNIAL\",\n",
    "    \"COURSE_CATEGORYIDNUMBER\",\n",
    "    \"COURSE_CATEGORYNAME\",\n",
    "    \"EXTERNAL_NAME\",\n",
    "    \"EXTERNAL_INTRO\",\n",
    "    \"EXTERNAL_CONTENT\",\n",
    "    \"EXTERNAL_MARKCOMPLETEEXTERNALLY\"\n",
    "]\n",
    "\n",
    "# Escribir los datos en el archivo CSV\n",
    "with open(csv_file, \"w\", newline=\"\") as f:\n",
    "    writer = csv.DictWriter(f, fieldnames=headers, delimiter=\";\")\n",
    "\n",
    "    # Escribir los encabezados\n",
    "    writer.writeheader()\n",
    "\n",
    "    # Escribir los datos\n",
    "    writer.writerows(data)\n",
    "\n",
    "print(\"Archivo CSV generado exitosamente:\", csv_file)\n"
   ]
  },
  {
   "cell_type": "code",
   "execution_count": 4,
   "id": "34630f23-3513-42ac-bb65-b2c6cae76708",
   "metadata": {},
   "outputs": [
    {
     "name": "stdout",
     "output_type": "stream",
     "text": [
      "Archivo CSV generado exitosamente: output/datos_simulados_activity_results.csv\n"
     ]
    }
   ],
   "source": [
    "#DATOS SIMULADOS PARA RECURSOS COMPLEADOS EXTERNAMENTE\n",
    "import csv\n",
    "import random\n",
    "import uuid\n",
    "\n",
    "# Definir la cantidad de filas de datos simulados a generar\n",
    "num_rows = 5\n",
    "\n",
    "# Generar datos simulados\n",
    "data = []\n",
    "for _ in range(num_rows):\n",
    "    course_id = str(uuid.uuid4())  # Generar un UUID aleatorio para el course_id\n",
    "    username = random.choice([\"Student\", \"Teacher\", \"Admin\", \"Assistant\", \"Participant\"])  # Elegir un nombre de usuario aleatorio\n",
    "    completed = random.choice([0, 1])  # Elegir aleatoriamente si el usuario ha completado el curso\n",
    "    score = random.randint(0, 100) if completed == 1 else None  # Generar una puntuación aleatoria solo si el curso está completado\n",
    "\n",
    "    data.append({\n",
    "        \"COURSE_IDNUMBER\": course_id,\n",
    "        \"USER_USERNAME\": username,\n",
    "        \"USER_COMPLETED\": completed,\n",
    "        \"USER_SCORE\": score\n",
    "    })\n",
    "\n",
    "# Definir la ruta del archivo CSV de salida\n",
    "csv_file = \"output/datos_simulados_activity_results.csv\"\n",
    "\n",
    "# Definir los encabezados de columna\n",
    "headers = [\n",
    "    \"COURSE_IDNUMBER\",\n",
    "    \"USER_USERNAME\",\n",
    "    \"USER_COMPLETED\",\n",
    "    \"USER_SCORE\"\n",
    "]\n",
    "\n",
    "# Escribir los datos en el archivo CSV\n",
    "with open(csv_file, \"w\", newline=\"\") as f:\n",
    "    writer = csv.DictWriter(f, fieldnames=headers, delimiter=\";\")\n",
    "\n",
    "    # Escribir los encabezados\n",
    "    writer.writeheader()\n",
    "\n",
    "    # Escribir los datos\n",
    "    writer.writerows(data)\n",
    "\n",
    "print(\"Archivo CSV generado exitosamente:\", csv_file)\n"
   ]
  },
  {
   "cell_type": "code",
   "execution_count": null,
   "id": "349014b9-8e6c-47df-9d5d-3aea1dcd6619",
   "metadata": {},
   "outputs": [],
   "source": []
  }
 ],
 "metadata": {
  "kernelspec": {
   "display_name": "Python 3 (ipykernel)",
   "language": "python",
   "name": "python3"
  },
  "language_info": {
   "codemirror_mode": {
    "name": "ipython",
    "version": 3
   },
   "file_extension": ".py",
   "mimetype": "text/x-python",
   "name": "python",
   "nbconvert_exporter": "python",
   "pygments_lexer": "ipython3",
   "version": "3.10.12"
  }
 },
 "nbformat": 4,
 "nbformat_minor": 5
}
