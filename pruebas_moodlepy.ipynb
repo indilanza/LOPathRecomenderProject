{
 "cells": [
  {
   "cell_type": "code",
   "execution_count": 15,
   "id": "d47bc57a-0cea-4662-82d2-f6bbc77bb0dd",
   "metadata": {},
   "outputs": [],
   "source": [
    "from moodle import Moodle\n",
    "url = 'http://localhost/moodle/webservice/rest/server.php'\n",
    "token = '043fcaaa77b4bca103b9760450b4fdb6'\n",
    "moodle = Moodle(url, token)\n",
    "dict_site_info = moodle('core_webservice_get_site_info')\n",
    "site_info = moodle.core.webservice.get_site_info()  # return typed site_info\n",
    "\n"
   ]
  },
  {
   "cell_type": "code",
   "execution_count": 9,
   "id": "9fdc39bc-b01b-421b-b84b-e33d52d72f63",
   "metadata": {},
   "outputs": [
    {
     "data": {
      "text/plain": [
       "'print(dict_site_info)\\nprint(site_info)'"
      ]
     },
     "execution_count": 9,
     "metadata": {},
     "output_type": "execute_result"
    }
   ],
   "source": [
    "\"\"\"print(dict_site_info)\n",
    "print(site_info)\"\"\"\n"
   ]
  },
  {
   "cell_type": "code",
   "execution_count": 11,
   "id": "b804550d-9e04-4d7e-8bc1-66c708ec196f",
   "metadata": {},
   "outputs": [],
   "source": [
    "#moodle.get('core_webservice_get_site_info')"
   ]
  },
  {
   "cell_type": "code",
   "execution_count": 10,
   "id": "22fe1697-3d6e-41d1-ac59-177e0abe90ea",
   "metadata": {},
   "outputs": [],
   "source": [
    "\n",
    "# or\n",
    "#from moodle import Mdl\n",
    "#from moodle.core.webservice import BaseWebservice\n",
    "\n",
    "#moodle = Mdl(url, token)\n",
    "#webservice = BaseWebservice(moodle)\n",
    "#site_info2 = webservice.get_site_info()\n",
    "\n",
    "#assert site_info == site_info2"
   ]
  },
  {
   "cell_type": "code",
   "execution_count": 22,
   "id": "060ff21d-43fa-4b67-a24f-7c08b2b1c634",
   "metadata": {},
   "outputs": [
    {
     "name": "stdout",
     "output_type": "stream",
     "text": [
      "Help on Moodle in module moodle.moodle object:\n",
      "\n",
      "class Moodle(moodle.mdl.Mdl)\n",
      " |  Moodle(url: str, token: str)\n",
      " |  \n",
      " |  Method resolution order:\n",
      " |      Moodle\n",
      " |      moodle.mdl.Mdl\n",
      " |      builtins.object\n",
      " |  \n",
      " |  Methods defined here:\n",
      " |  \n",
      " |  __call__(self, wsfunction: str, moodlewsrestformat='json', **kwargs) -> Any\n",
      " |      Call self as a function.\n",
      " |  \n",
      " |  __init__(self, url: str, token: str)\n",
      " |      Initialize self.  See help(type(self)) for accurate signature.\n",
      " |  \n",
      " |  ----------------------------------------------------------------------\n",
      " |  Readonly properties defined here:\n",
      " |  \n",
      " |  auth\n",
      " |  \n",
      " |  block\n",
      " |  \n",
      " |  core\n",
      " |  \n",
      " |  enrol\n",
      " |  \n",
      " |  grade_report\n",
      " |  \n",
      " |  mod\n",
      " |  \n",
      " |  tool\n",
      " |  \n",
      " |  ----------------------------------------------------------------------\n",
      " |  Data and other attributes defined here:\n",
      " |  \n",
      " |  __annotations__ = {}\n",
      " |  \n",
      " |  ----------------------------------------------------------------------\n",
      " |  Methods inherited from moodle.mdl.Mdl:\n",
      " |  \n",
      " |  get(self, wsfunction: str, moodlewsrestformat='json', **kwargs) -> Any\n",
      " |      Send get request to webservice\n",
      " |      \n",
      " |      Args:\n",
      " |          wsfunction (str): Webservice function\n",
      " |          moodlewsrestformat (str, optional): Expected format. Defaults to \"json\".\n",
      " |      \n",
      " |      Raises:\n",
      " |          MoodleException: Error from server\n",
      " |      \n",
      " |      Returns:\n",
      " |          Any: Raw data (str) or dict\n",
      " |  \n",
      " |  post(self, wsfunction: str, moodlewsrestformat='json', **kwargs: Any) -> Any\n",
      " |      Send post request to webservice\n",
      " |      \n",
      " |      Args:\n",
      " |          wsfunction (str): Webservice function\n",
      " |          moodlewsrestformat (str, optional): Expected format. Defaults to \"json\".\n",
      " |      \n",
      " |      Raises:\n",
      " |          NetworkMoodleException: If request failed\n",
      " |          EmptyResponseException: If the response empty\n",
      " |          MoodleException: Error from server\n",
      " |      \n",
      " |      Returns:\n",
      " |          Any: Raw data (str) or dict\n",
      " |  \n",
      " |  process_response(self, data: Any) -> Any\n",
      " |      Process data to handle exception or warnings\n",
      " |      \n",
      " |      Args:\n",
      " |          data (Any): Could be dict with warnings or exception\n",
      " |      \n",
      " |      Raises:\n",
      " |          MoodleException: Error from server\n",
      " |      \n",
      " |      Returns:\n",
      " |          Any: Return data if no exeption\n",
      " |  \n",
      " |  ----------------------------------------------------------------------\n",
      " |  Class methods inherited from moodle.mdl.Mdl:\n",
      " |  \n",
      " |  get_tokens(domain: str, username: str, password: str, service: str = 'moodle_mobile_app', loginurl: str = '/login/token.php') -> dict from builtins.type\n",
      " |  \n",
      " |  login(domain: str, username: str, password: str, service: str = 'moodle_mobile_app', loginurl: str = '/login/token.php', web_service_url: str = '/webservice/rest/server.php') from builtins.type\n",
      " |      Get a Moodle instance by using username & password auth\n",
      " |      \n",
      " |      Args:\n",
      " |          domain (str): The domain of moodle app\n",
      " |          username (str): Username\n",
      " |          password (str): Password\n",
      " |          service (str, optional): Service name. Defaults to 'moodle_mobile_app'.\n",
      " |          loginurl (str, optional): Url to get token from. Defaults to '/login/token.php'.\n",
      " |          web_service_url (str, optional): Moodle Web Service endpoint. Defaults to '/webservice/rest/server.php'.\n",
      " |      \n",
      " |      Raises:\n",
      " |          InvalidCredentialException: Wrong credential\n",
      " |      \n",
      " |      Returns:\n",
      " |          Moodle: Returns an instance of Moodle\n",
      " |  \n",
      " |  ----------------------------------------------------------------------\n",
      " |  Data descriptors inherited from moodle.mdl.Mdl:\n",
      " |  \n",
      " |  __dict__\n",
      " |      dictionary for instance variables (if defined)\n",
      " |  \n",
      " |  __weakref__\n",
      " |      list of weak references to the object (if defined)\n",
      " |  \n",
      " |  ----------------------------------------------------------------------\n",
      " |  Data and other attributes inherited from moodle.mdl.Mdl:\n",
      " |  \n",
      " |  __headers__ = {'User-Agent': 'moodlepy-0.24.0'}\n",
      " |  \n",
      " |  session = <requests.sessions.Session object>\n",
      " |  \n",
      " |  token = ''\n",
      " |  \n",
      " |  url = ''\n",
      "\n"
     ]
    }
   ],
   "source": [
    "help(moodle)"
   ]
  },
  {
   "cell_type": "code",
   "execution_count": 5,
   "id": "6e5326c0-5f52-48de-a1d4-eed9da5a85b0",
   "metadata": {},
   "outputs": [],
   "source": [
    "# Construye la solicitud\n",
    "data = {\n",
    "    'users[0][username]': 'nuevo_usuario',\n",
    "    'users[0][password]': 'contrasena_segura',\n",
    "    'users[0][firstname]': 'Nombre',\n",
    "    'users[0][lastname]': 'Apellido',\n",
    "    'users[0][email]': 'usuario@dominio.com'\n",
    "}\n"
   ]
  },
  {
   "cell_type": "code",
   "execution_count": null,
   "id": "9c1ca7cf-8c21-40fc-9b9b-505774790b4e",
   "metadata": {},
   "outputs": [],
   "source": []
  },
  {
   "cell_type": "code",
   "execution_count": 39,
   "id": "168fc78f-1800-46ca-b2b3-8d0a6f8393ef",
   "metadata": {},
   "outputs": [
    {
     "ename": "MoodleException",
     "evalue": "Error Code: Invalid parameter value detected\nException: invalid_parameter_exception\nMessage: invalidparameter\nDebug Info: Missing required key in single structure: criteria",
     "output_type": "error",
     "traceback": [
      "\u001b[0;31m---------------------------------------------------------------------------\u001b[0m",
      "\u001b[0;31mMoodleException\u001b[0m                           Traceback (most recent call last)",
      "Cell \u001b[0;32mIn[39], line 8\u001b[0m\n\u001b[1;32m      4\u001b[0m moodle_create_token \u001b[38;5;241m=\u001b[39m \u001b[38;5;124m'\u001b[39m\u001b[38;5;124m7f0aa2b0746edf87b136e976cfaac531\u001b[39m\u001b[38;5;124m'\u001b[39m\n\u001b[1;32m      6\u001b[0m moodle \u001b[38;5;241m=\u001b[39m Moodle(target, moodle_create_token)\n\u001b[0;32m----> 8\u001b[0m r \u001b[38;5;241m=\u001b[39m \u001b[43mmoodle\u001b[49m\u001b[38;5;241;43m.\u001b[39;49m\u001b[43mget\u001b[49m\u001b[43m(\u001b[49m\u001b[38;5;124;43m'\u001b[39;49m\u001b[38;5;124;43mcore_user_get_users\u001b[39;49m\u001b[38;5;124;43m'\u001b[39;49m\u001b[43m)\u001b[49m \n",
      "File \u001b[0;32m~/.local/lib/python3.10/site-packages/moodle/mdl.py:64\u001b[0m, in \u001b[0;36mMdl.get\u001b[0;34m(self, wsfunction, moodlewsrestformat, **kwargs)\u001b[0m\n\u001b[1;32m     62\u001b[0m \u001b[38;5;28;01mif\u001b[39;00m res\u001b[38;5;241m.\u001b[39mok \u001b[38;5;129;01mand\u001b[39;00m moodlewsrestformat \u001b[38;5;241m==\u001b[39m \u001b[38;5;124m\"\u001b[39m\u001b[38;5;124mjson\u001b[39m\u001b[38;5;124m\"\u001b[39m:\n\u001b[1;32m     63\u001b[0m     data \u001b[38;5;241m=\u001b[39m json\u001b[38;5;241m.\u001b[39mloads(res\u001b[38;5;241m.\u001b[39mtext)\n\u001b[0;32m---> 64\u001b[0m     \u001b[38;5;28;01mreturn\u001b[39;00m \u001b[38;5;28;43mself\u001b[39;49m\u001b[38;5;241;43m.\u001b[39;49m\u001b[43mprocess_response\u001b[49m\u001b[43m(\u001b[49m\u001b[43mdata\u001b[49m\u001b[43m)\u001b[49m\n\u001b[1;32m     65\u001b[0m \u001b[38;5;28;01mreturn\u001b[39;00m res\u001b[38;5;241m.\u001b[39mtext\n",
      "File \u001b[0;32m~/.local/lib/python3.10/site-packages/moodle/mdl.py:124\u001b[0m, in \u001b[0;36mMdl.process_response\u001b[0;34m(self, data)\u001b[0m\n\u001b[1;32m    122\u001b[0m             \u001b[38;5;28mself\u001b[39m\u001b[38;5;241m.\u001b[39mlogger\u001b[38;5;241m.\u001b[39mwarning(\u001b[38;5;28mstr\u001b[39m(warning))\n\u001b[1;32m    123\u001b[0m     \u001b[38;5;28;01mif\u001b[39;00m \u001b[38;5;124m\"\u001b[39m\u001b[38;5;124mexception\u001b[39m\u001b[38;5;124m\"\u001b[39m \u001b[38;5;129;01min\u001b[39;00m data \u001b[38;5;129;01mor\u001b[39;00m \u001b[38;5;124m\"\u001b[39m\u001b[38;5;124merrorcode\u001b[39m\u001b[38;5;124m\"\u001b[39m \u001b[38;5;129;01min\u001b[39;00m data:\n\u001b[0;32m--> 124\u001b[0m         \u001b[38;5;28;01mraise\u001b[39;00m MoodleException(\u001b[38;5;241m*\u001b[39m\u001b[38;5;241m*\u001b[39mdata)  \u001b[38;5;66;03m# type: ignore\u001b[39;00m\n\u001b[1;32m    125\u001b[0m \u001b[38;5;28;01mreturn\u001b[39;00m data\n",
      "\u001b[0;31mMoodleException\u001b[0m: Error Code: Invalid parameter value detected\nException: invalid_parameter_exception\nMessage: invalidparameter\nDebug Info: Missing required key in single structure: criteria"
     ]
    }
   ],
   "source": [
    "from moodle import Moodle\n",
    "\n",
    "target = 'http://localhost/moodle/webservice/rest/server.php'\n",
    "moodle_create_token = '7f0aa2b0746edf87b136e976cfaac531'\n",
    "\n",
    "moodle = Moodle(target, moodle_create_token)\n",
    "\n",
    "r = moodle.get('core_user_get_users') \n"
   ]
  },
  {
   "cell_type": "code",
   "execution_count": 41,
   "id": "04e424c6-8919-4d01-9d3c-00ae70218d48",
   "metadata": {},
   "outputs": [
    {
     "name": "stdout",
     "output_type": "stream",
     "text": [
      "Defaulting to user installation because normal site-packages is not writeable\n",
      "Collecting fastapi\n",
      "  Downloading fastapi-0.109.0-py3-none-any.whl (92 kB)\n",
      "\u001b[2K     \u001b[38;2;114;156;31m━━━━━━━━━━━━━━━━━━━━━━━━━━━━━━━━━━━━━━━━\u001b[0m \u001b[32m92.0/92.0 KB\u001b[0m \u001b[31m6.1 MB/s\u001b[0m eta \u001b[36m0:00:00\u001b[0m\n",
      "\u001b[?25hCollecting httpx\n",
      "  Downloading httpx-0.26.0-py3-none-any.whl (75 kB)\n",
      "\u001b[2K     \u001b[38;2;114;156;31m━━━━━━━━━━━━━━━━━━━━━━━━━━━━━━━━━━━━━━━━\u001b[0m \u001b[32m75.9/75.9 KB\u001b[0m \u001b[31m3.1 MB/s\u001b[0m eta \u001b[36m0:00:00\u001b[0m\n",
      "\u001b[?25hCollecting pydantic!=1.8,!=1.8.1,!=2.0.0,!=2.0.1,!=2.1.0,<3.0.0,>=1.7.4\n",
      "  Downloading pydantic-2.5.3-py3-none-any.whl (381 kB)\n",
      "\u001b[2K     \u001b[38;2;114;156;31m━━━━━━━━━━━━━━━━━━━━━━━━━━━━━━━━━━━━━━━\u001b[0m \u001b[32m381.9/381.9 KB\u001b[0m \u001b[31m6.0 MB/s\u001b[0m eta \u001b[36m0:00:00\u001b[0m31m10.0 MB/s\u001b[0m eta \u001b[36m0:00:01\u001b[0m\n",
      "\u001b[?25hCollecting starlette<0.36.0,>=0.35.0\n",
      "  Downloading starlette-0.35.1-py3-none-any.whl (71 kB)\n",
      "\u001b[2K     \u001b[38;2;114;156;31m━━━━━━━━━━━━━━━━━━━━━━━━━━━━━━━━━━━━━━━━\u001b[0m \u001b[32m71.1/71.1 KB\u001b[0m \u001b[31m2.3 MB/s\u001b[0m eta \u001b[36m0:00:00\u001b[0m\n",
      "\u001b[?25hRequirement already satisfied: typing-extensions>=4.8.0 in /home/indira/.local/lib/python3.10/site-packages (from fastapi) (4.9.0)\n",
      "Requirement already satisfied: sniffio in /home/indira/.local/lib/python3.10/site-packages (from httpx) (1.3.0)\n",
      "Requirement already satisfied: idna in /usr/lib/python3/dist-packages (from httpx) (3.3)\n",
      "Requirement already satisfied: anyio in /home/indira/.local/lib/python3.10/site-packages (from httpx) (4.2.0)\n",
      "Requirement already satisfied: certifi in /usr/lib/python3/dist-packages (from httpx) (2020.6.20)\n",
      "Collecting httpcore==1.*\n",
      "  Downloading httpcore-1.0.2-py3-none-any.whl (76 kB)\n",
      "\u001b[2K     \u001b[38;2;114;156;31m━━━━━━━━━━━━━━━━━━━━━━━━━━━━━━━━━━━━━━━━\u001b[0m \u001b[32m76.9/76.9 KB\u001b[0m \u001b[31m2.4 MB/s\u001b[0m eta \u001b[36m0:00:00\u001b[0m\n",
      "\u001b[?25hCollecting h11<0.15,>=0.13\n",
      "  Downloading h11-0.14.0-py3-none-any.whl (58 kB)\n",
      "\u001b[2K     \u001b[38;2;114;156;31m━━━━━━━━━━━━━━━━━━━━━━━━━━━━━━━━━━━━━━━━\u001b[0m \u001b[32m58.3/58.3 KB\u001b[0m \u001b[31m1.0 MB/s\u001b[0m eta \u001b[36m0:00:00\u001b[0m6 MB/s\u001b[0m eta \u001b[36m0:00:01\u001b[0m\n",
      "\u001b[?25hCollecting pydantic-core==2.14.6\n",
      "  Downloading pydantic_core-2.14.6-cp310-cp310-manylinux_2_17_x86_64.manylinux2014_x86_64.whl (2.1 MB)\n",
      "\u001b[2K     \u001b[38;2;114;156;31m━━━━━━━━━━━━━━━━━━━━━━━━━━━━━━━━━━━━━━━━\u001b[0m \u001b[32m2.1/2.1 MB\u001b[0m \u001b[31m11.1 MB/s\u001b[0m eta \u001b[36m0:00:00\u001b[0m31m12.6 MB/s\u001b[0m eta \u001b[36m0:00:01\u001b[0m\n",
      "\u001b[?25hCollecting annotated-types>=0.4.0\n",
      "  Downloading annotated_types-0.6.0-py3-none-any.whl (12 kB)\n",
      "Requirement already satisfied: exceptiongroup>=1.0.2 in /home/indira/.local/lib/python3.10/site-packages (from anyio->httpx) (1.2.0)\n",
      "Installing collected packages: pydantic-core, h11, annotated-types, starlette, pydantic, httpcore, httpx, fastapi\n",
      "Successfully installed annotated-types-0.6.0 fastapi-0.109.0 h11-0.14.0 httpcore-1.0.2 httpx-0.26.0 pydantic-2.5.3 pydantic-core-2.14.6 starlette-0.35.1\n",
      "Note: you may need to restart the kernel to use updated packages.\n"
     ]
    }
   ],
   "source": [
    "pip install fastapi httpx\n"
   ]
  },
  {
   "cell_type": "code",
   "execution_count": 45,
   "id": "09f03f92-bcaf-47e0-8027-eb510a45dc6d",
   "metadata": {},
   "outputs": [
    {
     "name": "stdout",
     "output_type": "stream",
     "text": [
      "Defaulting to user installation because normal site-packages is not writeable\n",
      "Requirement already satisfied: fastapi in /home/indira/.local/lib/python3.10/site-packages (0.109.0)\n",
      "Collecting uvicorn\n",
      "  Downloading uvicorn-0.27.0-py3-none-any.whl (60 kB)\n",
      "\u001b[2K     \u001b[38;2;114;156;31m━━━━━━━━━━━━━━━━━━━━━━━━━━━━━━━━━━━━━━━━\u001b[0m \u001b[32m60.6/60.6 KB\u001b[0m \u001b[31m1.6 MB/s\u001b[0m eta \u001b[36m0:00:00\u001b[0m\n",
      "\u001b[?25hRequirement already satisfied: pydantic!=1.8,!=1.8.1,!=2.0.0,!=2.0.1,!=2.1.0,<3.0.0,>=1.7.4 in /home/indira/.local/lib/python3.10/site-packages (from fastapi) (2.5.3)\n",
      "Requirement already satisfied: typing-extensions>=4.8.0 in /home/indira/.local/lib/python3.10/site-packages (from fastapi) (4.9.0)\n",
      "Requirement already satisfied: starlette<0.36.0,>=0.35.0 in /home/indira/.local/lib/python3.10/site-packages (from fastapi) (0.35.1)\n",
      "Requirement already satisfied: h11>=0.8 in /home/indira/.local/lib/python3.10/site-packages (from uvicorn) (0.14.0)\n",
      "Requirement already satisfied: click>=7.0 in /usr/lib/python3/dist-packages (from uvicorn) (8.0.3)\n",
      "Requirement already satisfied: annotated-types>=0.4.0 in /home/indira/.local/lib/python3.10/site-packages (from pydantic!=1.8,!=1.8.1,!=2.0.0,!=2.0.1,!=2.1.0,<3.0.0,>=1.7.4->fastapi) (0.6.0)\n",
      "Requirement already satisfied: pydantic-core==2.14.6 in /home/indira/.local/lib/python3.10/site-packages (from pydantic!=1.8,!=1.8.1,!=2.0.0,!=2.0.1,!=2.1.0,<3.0.0,>=1.7.4->fastapi) (2.14.6)\n",
      "Requirement already satisfied: anyio<5,>=3.4.0 in /home/indira/.local/lib/python3.10/site-packages (from starlette<0.36.0,>=0.35.0->fastapi) (4.2.0)\n",
      "Requirement already satisfied: exceptiongroup>=1.0.2 in /home/indira/.local/lib/python3.10/site-packages (from anyio<5,>=3.4.0->starlette<0.36.0,>=0.35.0->fastapi) (1.2.0)\n",
      "Requirement already satisfied: sniffio>=1.1 in /home/indira/.local/lib/python3.10/site-packages (from anyio<5,>=3.4.0->starlette<0.36.0,>=0.35.0->fastapi) (1.3.0)\n",
      "Requirement already satisfied: idna>=2.8 in /usr/lib/python3/dist-packages (from anyio<5,>=3.4.0->starlette<0.36.0,>=0.35.0->fastapi) (3.3)\n",
      "Installing collected packages: uvicorn\n",
      "Successfully installed uvicorn-0.27.0\n",
      "Note: you may need to restart the kernel to use updated packages.\n"
     ]
    }
   ],
   "source": [
    "pip install fastapi uvicorn\n"
   ]
  },
  {
   "cell_type": "code",
   "execution_count": null,
   "id": "6ab6ef74-afb6-4e25-8f35-29b381c45dde",
   "metadata": {},
   "outputs": [],
   "source": []
  },
  {
   "cell_type": "code",
   "execution_count": null,
   "id": "5c95a6f0-7ad2-4b85-ade6-9f79b1383877",
   "metadata": {},
   "outputs": [],
   "source": []
  },
  {
   "cell_type": "code",
   "execution_count": 46,
   "id": "37489602-ffbc-4f4b-8172-cf5bfe5fd0eb",
   "metadata": {},
   "outputs": [],
   "source": [
    "from fastapi import FastAPI, HTTPException, Query\n",
    "import httpx\n",
    "\n",
    "app = FastAPI()\n",
    "\n",
    "MOODLE_API_URL = \"http://localhost/moodle/webservice/rest/server.php\"\n",
    "MOODLE_API_TOKEN = \"7f0aa2b0746edf87b136e976cfaac531\"\n",
    "\n",
    "\n",
    "@app.get(\"/get_users\")\n",
    "async def get_users(username: str = Query(..., title=\"Username of the user to retrieve\")):\n",
    "    params = {\n",
    "        \"wstoken\": MOODLE_API_TOKEN,\n",
    "        \"wsfunction\": \"core_user_get_users\",\n",
    "        \"moodlewsrestformat\": \"json\",\n",
    "        \"criteria[0][key]\": \"username\",\n",
    "        \"criteria[0][value]\": username,\n",
    "    }\n",
    "\n",
    "    async with httpx.AsyncClient() as client:\n",
    "        response = await client.get(MOODLE_API_URL, params=params)\n",
    "\n",
    "    if response.status_code == 200:\n",
    "        user_data = response.json()\n",
    "        return user_data\n",
    "    else:\n",
    "        raise HTTPException(status_code=response.status_code, detail=\"Failed to retrieve user data\")\n"
   ]
  },
  {
   "cell_type": "code",
   "execution_count": 43,
   "id": "e002844e-c431-426e-ab09-6906171fa43b",
   "metadata": {},
   "outputs": [
    {
     "data": {
      "text/plain": [
       "<coroutine object get_users at 0x7f1523f03140>"
      ]
     },
     "execution_count": 43,
     "metadata": {},
     "output_type": "execute_result"
    }
   ],
   "source": [
    "get_users('Indira Lanza')"
   ]
  },
  {
   "cell_type": "code",
   "execution_count": 49,
   "id": "6217de03-f645-43eb-830a-6669dd0d6c50",
   "metadata": {},
   "outputs": [
    {
     "name": "stdout",
     "output_type": "stream",
     "text": [
      "{'message': 'Hello, users!'}\n"
     ]
    }
   ],
   "source": [
    "import httpx\n",
    "\n",
    "async def call_get_users_api(username):\n",
    "    url = \"http://localhost:8000/get_users\"  # Ajusta el puerto según tu configuración de FastAPI\n",
    "    params = {\"username\": username}\n",
    "\n",
    "    async with httpx.AsyncClient() as client:\n",
    "        response = await client.get(url, params=params)\n",
    "\n",
    "    if response.status_code == 200:\n",
    "        user_data = response.json()\n",
    "        return user_data\n",
    "    else:\n",
    "        return {\"error\": f\"Failed to retrieve user data. Status code: {response.status_code}\"}\n",
    "\n",
    "# Llama a la función con un nombre de usuario específico\n",
    "import asyncio\n",
    "user_data_result = await call_get_users_api(\"nombre_de_usuario\")\n",
    "\n",
    "# Imprime el resultado\n",
    "print(user_data_result)\n"
   ]
  },
  {
   "cell_type": "code",
   "execution_count": 48,
   "id": "f9842c1a-7fdd-4524-b694-a86e5021629a",
   "metadata": {},
   "outputs": [
    {
     "data": {
      "text/plain": [
       "<coroutine object call_get_users_api at 0x7f1521611850>"
      ]
     },
     "execution_count": 48,
     "metadata": {},
     "output_type": "execute_result"
    }
   ],
   "source": [
    "call_get_users_api('Indira Lanza')"
   ]
  },
  {
   "cell_type": "code",
   "execution_count": null,
   "id": "32d55c2d-defb-4806-bcfc-58ca6a852525",
   "metadata": {},
   "outputs": [],
   "source": []
  }
 ],
 "metadata": {
  "kernelspec": {
   "display_name": "Python 3 (ipykernel)",
   "language": "python",
   "name": "python3"
  },
  "language_info": {
   "codemirror_mode": {
    "name": "ipython",
    "version": 3
   },
   "file_extension": ".py",
   "mimetype": "text/x-python",
   "name": "python",
   "nbconvert_exporter": "python",
   "pygments_lexer": "ipython3",
   "version": "3.10.12"
  }
 },
 "nbformat": 4,
 "nbformat_minor": 5
}
